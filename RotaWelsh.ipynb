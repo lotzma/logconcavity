{
 "cells": [
  {
   "cell_type": "markdown",
   "metadata": {},
   "source": [
    "<img style=\"float: left; width: 220px;\" src=\"images/shutterstock_318255209.jpg\">\n",
    "\n",
    "## <font color=\"grey\"> $\\quad$ Adiprasito-Huh-Katz Theorem and Related Topics </font>\n",
    "\n",
    "$\\newcommand{\\vct}[1]{\\mathbf{#1}}$\n",
    "$\\newcommand{\\mtx}[1]{\\mathbf{#1}}$\n",
    "$\\newcommand{\\e}{\\varepsilon}$\n",
    "$\\newcommand{\\norm}[1]{\\|#1\\|}$\n",
    "$\\newcommand{\\minimize}{\\mathrm{minimize}\\quad}$\n",
    "$\\newcommand{\\maximize}{\\mathrm{maximize}\\quad}$\n",
    "$\\newcommand{\\subjto}{\\quad\\text{subject to}\\quad}$\n",
    "$\\newcommand{\\R}{\\mathbb{R}}$\n",
    "$\\newcommand{\\trans}{T}$\n",
    "$\\newcommand{\\ip}[2]{\\langle {#1}, {#2} \\rangle}$\n",
    "$\\newcommand{\\zerovct}{\\vct{0}}$\n",
    "$\\newcommand{\\diff}[1]{\\mathrm{d}{#1}}$\n",
    "$\\newcommand{\\conv}{\\operatorname{conv}}$\n",
    "$\\newcommand{\\inter}{{\\operatorname{int}}}$\n",
    "$\\newcommand{\\dist}{\\mathrm{dist}}$"
   ]
  },
  {
   "cell_type": "markdown",
   "metadata": {},
   "source": [
    "This is a collection of links and notes on the Welsh-Rota (not-anymore) conjecture. This covers both general background material (in geometry and combinatorics), survey articles, the original papers, and other information of interest."
   ]
  },
  {
   "cell_type": "markdown",
   "metadata": {},
   "source": [
    "## 1. Background Material\n",
    "\n",
    "These are mostly books or book chapters that cover the material that may (or may not) be needed. These should be thought of as references, not something to be read in all detail.\n",
    "\n",
    "* Chapter 3 of [Enumerative Combinatorics](http://www-math.mit.edu/~rstan/ec/ec1.pdf) by Richard Stanley\n",
    "* [Log-concave and unimodal sequences in Algebra, Combinatorics, and Geometry](http://dedekind.mit.edu/~rstan/pubs/pubfiles/72.pdf) by Richard Stanley\n",
    "* [Algebraic and geometric methods in enumerative combinatorics](http://math.sfsu.edu/federico/Articles/methods.pdf) by Federico Ardila\n",
    "* [The Geometry of Matroids](https://www.ams.org/journals/notices/201808/rnoti-p902.pdf) by Federico Ardila\n",
    "* [Lectures on Polytopes](https://www.springer.com/gp/book/9780387943299) by G&uuml;nter Ziegler\n",
    "* [Modern Graph Theory](https://www.springer.com/gp/book/9780387984889) by B&eacute;la Bollob&aacute;s\n",
    "* [Chapter 9 (Zonotopes)](http://math.sfsu.edu/beck/papers/zonotopes.pdf) by Matthias Beck\n",
    "* [Introduction to Tropical Geometry](https://bookstore.ams.org/gsm-161) by Diane Maclagan and Bernd Sturmfels\n",
    "* [Convex Bodies: The Brunn-Minkowski Theory](https://www.cambridge.org/core/books/convex-bodies-the-brunnminkowski-theory/400F6173EE613859F144E9598DDD8BDF) by Rolf Schneider\n",
    "* [Stochastic and Integral Geometry](https://link.springer.com/book/10.1007/978-3-540-78859-1) by Rolf Schneider and Wolfgang Weil\n",
    "* [Topology and Geometry](http://virtualmath1.stanford.edu/~ralph/math215b/Bredon.pdf) by Glen E. Bredon \n",
    "* [Log-concavity and strong log-concavity: a review](https://arxiv.org/pdf/1404.5886.pdf) by Adrien Saumard and Jon A. Wellner"
   ]
  },
  {
   "cell_type": "markdown",
   "metadata": {},
   "source": [
    "## 2. On the Rota-Welsh Conjecture\n",
    "\n",
    "This list contains expository material on the Rota-Welsh conjecture and related material.\n",
    "\n",
    "* [Hodge Theory for Matroids](https://web.math.princeton.edu/~huh/rnoti-p26.pdf) by Karim Adiprasito, June Huh, Eric Katz\n",
    "* [Hodge Theory in Combinatorics](https://mattbaker.blog/2015/12/14/hodge-theory-in-combinatorics/) blog entry by Matthew Baker\n",
    "* [Hodge Theory in Combinatorics](http://www.ams.org/journals/bull/2018-55-01/S0273-0979-2017-01599-6/S0273-0979-2017-01599-6.pdf) by Matthew Baker"
   ]
  },
  {
   "cell_type": "markdown",
   "metadata": {},
   "source": [
    "## 3. Original Papers\n",
    "\n",
    "### Read Conjecture\n",
    "\n",
    "The Read Conjecture is concerned with the coefficients of the chromatic polynomial of a graph. \n",
    "\n",
    "* [Milnor Numbers of Projective Hypersurfaces and the Chromatic Polynomial of Graphs](https://web.math.princeton.edu/~huh/MilnorChromatic.pdf) by June Huh\n",
    "\n",
    "### Welsh Conjecture\n",
    "\n",
    "* [Log-concavity of characteristic polynomials and the Bergman fan of matroids](https://web.math.princeton.edu/~huh/BergmanFan.pdf) by June Huh and Eric Katz\n",
    "\n",
    "### Rota-Welsh Conjecture\n",
    "\n",
    "* [Hodge Theory for Combinatorial Geometries](https://arxiv.org/pdf/1511.02888.pdf) by Karim Adiprasito, June Huh, Eric Katz\n",
    "\n",
    "### Mason's Conjecture\n",
    "\n",
    "Mason's Conjecture states that for any matroid the sequence of the number of independent sets of given sizes is ultra\n",
    "log-concave. It is neither implied (because of the 'ultra' log-concavity), nor does it imply (because it does not cover the characteristic polynomial) the previous results.\n",
    "\n",
    "* [On multivariate Newton-like inequalities](https://arxiv.org/pdf/0812.3687.pdf) by Leonid Gurvits\n",
    "* [Log-Concave Polynomials I: Entropy and a Deterministic\n",
    "Approximation Algorithm for Counting Bases of Matroids](https://nimaanari.com/AOV18.pdf) by Nima Anari, Shayan Oveis Gharan, and Cynthia Vinzant\n",
    "* [Log-Concave Polynomials III: Mason’s Ultra-Log-Concavity\n",
    "Conjecture for Independent Sets of Matroids](https://nimaanari.com/ALOV18.pdf) by Nima Anari, Kuikui Liu, Shayan Oveis Gharan, and Cynthia Vinzant\n",
    "* [Completely Log-concave Polynomials and Matroids](https://clvinzan.math.ncsu.edu/slides/CLC_Matroid_JMM.pdf) slides from a talk by Cynthia Vinzant\n",
    "\n",
    "### Beyond\n",
    "\n",
    "* [Lorentzian Polynomials](https://web.math.princeton.edu/~huh/Lorentzian.pdf) by Petter Br&auml;nd&eacute;n and June Huh"
   ]
  },
  {
   "cell_type": "markdown",
   "metadata": {},
   "source": [
    "## 4. Intrinsic Volumes\n",
    "\n",
    "For convex bodies $K_1$ and $K_2$, denote by $K_1+K_2=\\{x+y \\ \\colon \\ x\\in K_1, y\\in K_2\\}$ the Minkowski sum and wrote $B^n=\\{x\\in \\R^n \\ \\colon \\ \\|x\\|\\leq 1\\}$ the closed unit ball. \n",
    "The intrinsic volumes of a (non-empty) convex body $K\\subset \\R^n$ can be defined as the coefficients $V_j(K)$ in the expansion of the volumes of an $\\epsilon$-neighbourhood $K+\\epsilon B^n$ of $K$:\n",
    "\n",
    "\\begin{equation*}\n",
    "  \\mathrm{Vol}(K+\\epsilon B^n) = \\sum_{j=0}^n V_j(K) \\cdot \\kappa_{n-j} \\epsilon^{n-j},\n",
    "\\end{equation*}\n",
    "\n",
    "where $\\kappa_j = \\frac{\\pi^{\\frac{j}{2}}}{\\Gamma\\left(\\frac{j}{2}+1\\right)}$ is the volume of a $j$-dimensional unit ball $B^j$. A consequence of the [Aleksandrov-Fenchel inequalities](https://arxiv.org/pdf/1902.10064.pdf) is that these intrinsic volumes are log-concave. Remarkably, the corresponding statement is open for the *spherical* intrinsic volumes.\n",
    "\n",
    "* [From Steiner Formulas for Cones to Concentration of Intrinsic Volumes](https://link.springer.com/article/10.1007/s00454-014-9595-4) by Mike McCoy and Joel Tropp\n",
    "This paper contains a pretty self-contained treatment of spherical/conic intrinsic volumes\n",
    "\n",
    "* [Intrinsic Volumes of Polyhedral Cones: A Combinatorial Perspective](https://link.springer.com/article/10.1007/s00454-017-9904-9) by Dennis Amelunxen and Martin Lotz\n",
    "A self-contained treatment of the theory of spherical/intrinsic volumes for polyhedral cones, with links to the theory of hyperplane arrangements. Does not cover the measure-concentration results dealt with above.\n",
    "\n",
    "**More to be written here...**"
   ]
  },
  {
   "cell_type": "markdown",
   "metadata": {},
   "source": [
    "## 5. Scrapbook\n",
    "\n",
    "From here on, some notes will be posted."
   ]
  },
  {
   "cell_type": "markdown",
   "metadata": {},
   "source": [
    "Let $C\\subset \\R^n$ be a closed convex cone and $C^{\\circ}=\\{x \\ \\colon \\ \\forall y \\in C, \\langle x,y\\rangle \\leq 0\\}$ the *polar* cone. Denote by $\\Pi_C(x)$ the metric projection of a point $x\\in \\R^n$ onto $C$, that is,\n",
    "\\begin{equation*}\n",
    "  \\Pi_C(x) = \\mathrm{argmin}_{y\\in C} \\|x-y\\|^2.\n",
    "\\end{equation*}\n",
    "Some of the properties this satisfies:\n",
    "\n",
    "1) $\\|x-\\Pi_C(x)\\|^2 =: \\mathrm{dist}_C^2(x)$ is the square of the *distance* of $x$ to $C$;\n",
    "\n",
    "2) $\\nabla \\dist^2_C(x) = 2(x-\\Pi_C(x))$;\n",
    "\n",
    "3) $\\Pi_C(x)+\\Pi_{C^{\\circ}}(x) = x$ ('orthogonal' decomposition). In particular, $\\dist_C^2(x)+\\dist_{C^{\\circ}}^2(x) = \\|x\\|^2$. \n",
    "\n",
    "These properties are intuitive once one draws a picture, see the 'From Steiner Formulas...' paper above. Based on the tools developed in that paper one can show that for $y\\geq 0$ and $z\\geq 0$ one has:\n",
    "\n",
    "\\begin{equation*}\n",
    "  \\frac{(yz)^{n}}{(2\\pi)^{n/2}} \\int_{\\R^n} \\mathrm{e}^{-\\frac{y^2\\dist^2_C(x)+z^2\\dist_{C^{\\circ}}^2(x)}{2}} \\ \\mathrm{d}x = \\sum_{j=0}^n y^{j}z^{n-j} \\cdot v_j(C),\n",
    "\\end{equation*}\n",
    "\n",
    "where the $v_j(C)$ are the spherical/conic intrinsic volumes of $C$. The following would be great to know:\n",
    "\n",
    "**Problem** The integral above is *completely log-concave* as a function of $(y,z)$. That is, the function as well as all its higher-order directional derivatives are log-concave.\n"
   ]
  }
 ],
 "metadata": {
  "kernelspec": {
   "display_name": "Python 3",
   "language": "python",
   "name": "python3"
  },
  "language_info": {
   "codemirror_mode": {
    "name": "ipython",
    "version": 3
   },
   "file_extension": ".py",
   "mimetype": "text/x-python",
   "name": "python",
   "nbconvert_exporter": "python",
   "pygments_lexer": "ipython3",
   "version": "3.6.7"
  }
 },
 "nbformat": 4,
 "nbformat_minor": 2
}
